{
 "cells": [
  {
   "cell_type": "code",
   "execution_count": null,
   "metadata": {},
   "outputs": [],
   "source": [
    "import pandas as pd\n",
    "\n",
    "# Load data and set labels\n",
    "data_complaint = pd.read_csv('data/complaint1700.csv')\n",
    "data_complaint['label'] = 0\n",
    "data_non_complaint = pd.read_csv('data/noncomplaint1700.csv')\n",
    "data_non_complaint['label'] = 1\n",
    "\n",
    "# Concatenate complaining and non-complaining data\n",
    "data = pd.concat([data_complaint, data_non_complaint], axis=0).reset_index(drop=True)\n",
    "\n",
    "# Drop 'airline' column\n",
    "data.drop(['airline'], inplace=True, axis=1)\n",
    "\n",
    "# Display 5 random samples\n",
    "data.sample(5)"
   ]
  },
  {
   "cell_type": "code",
   "execution_count": null,
   "metadata": {},
   "outputs": [],
   "source": []
  },
  {
   "cell_type": "code",
   "execution_count": null,
   "metadata": {},
   "outputs": [],
   "source": []
  },
  {
   "cell_type": "code",
   "execution_count": null,
   "metadata": {},
   "outputs": [],
   "source": []
  },
  {
   "cell_type": "code",
   "execution_count": null,
   "metadata": {},
   "outputs": [],
   "source": []
  },
  {
   "cell_type": "code",
   "execution_count": 23,
   "metadata": {},
   "outputs": [
    {
     "data": {
      "text/plain": [
       "0       @united I'm having issues. Yesterday I rebooke...\n",
       "1       @united kinda feel like the $6.99 you charge f...\n",
       "2       Livid in Vegas, delayed, again&amp; again&amp;...\n",
       "3       @united the most annoying man on earth is on m...\n",
       "4       @united The last 2 weeks I've flown wit u, you...\n",
       "                              ...                        \n",
       "3395    @SubTheGamer @united completely pathetic! I'm ...\n",
       "3396    @QuranWeekly @united  Too many bigots in Ameri...\n",
       "3397    @SangyeH @united I would too. My sister conver...\n",
       "3398    Ã¢â‚¬Å“@hindukid1021: prime example of our wor...\n",
       "3399    @united @ImamSuhaibWebb you call that a statem...\n",
       "Name: tweet, Length: 3400, dtype: object"
      ]
     },
     "execution_count": 23,
     "metadata": {},
     "output_type": "execute_result"
    }
   ],
   "source": [
    "tweets = data['tweet']\n",
    "tweets"
   ]
  },
  {
   "cell_type": "code",
   "execution_count": 24,
   "metadata": {},
   "outputs": [
    {
     "data": {
      "text/plain": [
       "\"@united kinda feel like the $6.99 you charge for in flight Wi-Fi is ridiculous. AND it sucks, slow, or doesn't work. #anythingtomakeabuck\""
      ]
     },
     "execution_count": 24,
     "metadata": {},
     "output_type": "execute_result"
    }
   ],
   "source": [
    "tweets[1]"
   ]
  },
  {
   "cell_type": "code",
   "execution_count": null,
   "metadata": {},
   "outputs": [],
   "source": []
  },
  {
   "cell_type": "code",
   "execution_count": null,
   "metadata": {},
   "outputs": [],
   "source": []
  },
  {
   "cell_type": "code",
   "execution_count": null,
   "metadata": {},
   "outputs": [],
   "source": []
  },
  {
   "cell_type": "code",
   "execution_count": null,
   "metadata": {},
   "outputs": [],
   "source": []
  },
  {
   "cell_type": "code",
   "execution_count": null,
   "metadata": {},
   "outputs": [],
   "source": []
  },
  {
   "cell_type": "code",
   "execution_count": null,
   "metadata": {},
   "outputs": [],
   "source": []
  },
  {
   "cell_type": "code",
   "execution_count": null,
   "metadata": {},
   "outputs": [],
   "source": []
  },
  {
   "cell_type": "code",
   "execution_count": null,
   "metadata": {},
   "outputs": [],
   "source": []
  },
  {
   "cell_type": "code",
   "execution_count": null,
   "metadata": {},
   "outputs": [],
   "source": []
  },
  {
   "cell_type": "code",
   "execution_count": null,
   "metadata": {},
   "outputs": [],
   "source": []
  },
  {
   "cell_type": "code",
   "execution_count": null,
   "metadata": {},
   "outputs": [],
   "source": []
  },
  {
   "cell_type": "code",
   "execution_count": null,
   "metadata": {},
   "outputs": [],
   "source": []
  },
  {
   "cell_type": "code",
   "execution_count": null,
   "metadata": {},
   "outputs": [],
   "source": []
  },
  {
   "cell_type": "markdown",
   "metadata": {},
   "source": [
    "# Current way of doing things\n",
    "Annotating data..."
   ]
  },
  {
   "cell_type": "code",
   "execution_count": 25,
   "metadata": {},
   "outputs": [
    {
     "name": "stdout",
     "output_type": "stream",
     "text": [
      "@united I'm having issues. Yesterday I rebooked for 24 hours after I was supposed to fly, now I can't log on &amp; check in. Can you help? NEGATIVE\n",
      "----------\n",
      "@united kinda feel like the $6.99 you charge for in flight Wi-Fi is ridiculous. AND it sucks, slow, or doesn't work. #anythingtomakeabuck NEGATIVE\n",
      "----------\n",
      "Livid in Vegas, delayed, again&amp; again&amp;again, @SouthwestAir decided to cancel a flight and combine two, then waited on crew, now pilots. NEGATIVE\n",
      "----------\n",
      "@united the most annoying man on earth is on my flight. what can you do to help me? NEGATIVE\n",
      "----------\n",
      "@united The last 2 weeks I've flown wit u, you have given me 4 reasons to convince me it was a bad decision. Time 2 go back 2 @SouthwestAir NEGATIVE\n",
      "----------\n",
      "@AmericanAir #AmericanAirlines  Flight 1179 Miami to DC. Gate closes at least 19 minutes before the flight. Agents show up and lie to me. NEGATIVE\n",
      "----------\n",
      "@ABC It appears @united employees have a fear of autism. NEGATIVE\n",
      "----------\n",
      "Kids have no idea we are heading to WDW tue for an extended vacation. Can't wait to see their face boarding @JetBlue #AKV #DisneySide POSITIVE\n",
      "----------\n",
      "Four hour delay on my @united flight from dallas to houston. My longest delay i ever had for flight.  Going to be a late night arrival home NEGATIVE\n",
      "----------\n",
      "@AmericanAir sitting on the runway at DFW waiting to park. I have a connection in 15 to AUS. Can they hold for a few extra minutes!? Please NEUTRAL\n",
      "----------\n",
      "@united don't worry I won't be flying united again, one week with two terrible trips was enough NEGATIVE\n",
      "----------\n",
      "\"@KingBach: This flight attendant on @united airlines is extremely rude. Shoulda flown @Delta âœˆï¸\" NEGATIVE\n",
      "----------\n",
      "@AmericanAir better late than never. POSITIVE\n",
      "----------\n",
      "@United spent 2 days in SFO airport hotel on my dime (&amp; no lounge access) received a $250 Voucher AFTER flight cancelled due to Pilot no sho NEGATIVE\n",
      "----------\n",
      "@5000mgmt I think your twitter was hacked. It just tweeted out a compliment instead of a complaint to @united. NEGATIVE\n",
      "----------\n"
     ]
    }
   ],
   "source": [
    "import boto3\n",
    "import json\n",
    "\n",
    "comprehend = boto3.client(service_name='comprehend', region_name='us-east-1')\n",
    "\n",
    "for tweet in list(tweets.values)[:15]:\n",
    "    res = json.loads(json.dumps(comprehend.detect_sentiment(Text=tweet, LanguageCode='en'), sort_keys=True, indent=4))\n",
    "    print(tweet, res['Sentiment'])\n",
    "    print('-' * 10)"
   ]
  },
  {
   "cell_type": "code",
   "execution_count": null,
   "metadata": {},
   "outputs": [],
   "source": []
  },
  {
   "cell_type": "code",
   "execution_count": null,
   "metadata": {},
   "outputs": [],
   "source": []
  },
  {
   "cell_type": "code",
   "execution_count": null,
   "metadata": {},
   "outputs": [],
   "source": []
  },
  {
   "cell_type": "code",
   "execution_count": null,
   "metadata": {},
   "outputs": [],
   "source": []
  },
  {
   "cell_type": "code",
   "execution_count": null,
   "metadata": {},
   "outputs": [],
   "source": []
  }
 ],
 "metadata": {
  "kernelspec": {
   "display_name": "Python 3",
   "language": "python",
   "name": "python3"
  },
  "language_info": {
   "codemirror_mode": {
    "name": "ipython",
    "version": 3
   },
   "file_extension": ".py",
   "mimetype": "text/x-python",
   "name": "python",
   "nbconvert_exporter": "python",
   "pygments_lexer": "ipython3",
   "version": "3.8.5"
  }
 },
 "nbformat": 4,
 "nbformat_minor": 4
}
